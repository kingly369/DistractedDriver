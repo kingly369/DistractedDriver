{
 "cells": [
  {
   "cell_type": "code",
   "execution_count": 1,
   "metadata": {},
   "outputs": [],
   "source": [
    "from sklearn.datasets import fetch_openml\n",
    "import numpy as np\n",
    "from scipy.spatial import distance\n",
    "import random\n",
    "import matplotlib.pyplot as plt\n",
    "import joblib\n",
    "import os\n",
    "import cv2"
   ]
  },
  {
   "cell_type": "code",
   "execution_count": 2,
   "metadata": {},
   "outputs": [],
   "source": [
    "def saveVariable(x, keyName):\n",
    "    tmp = str(keyName) + \".sav\"\n",
    "    joblib.dump(x, tmp)\n",
    "    \n",
    "def loadVariable(keyName):\n",
    "    tmp = str(keyName) + \".sav\"\n",
    "    return joblib.load(tmp)\n",
    "\n",
    "\n",
    "def isEmptyFile(keyName):\n",
    "    tmp = str(keyName) +\".p\"\n",
    "    if os.path.exists(tmp) == False:\n",
    "        return True\n",
    "    if os.path.getsize(tmp) == 0:\n",
    "        return True\n",
    "    return False"
   ]
  },
  {
   "cell_type": "code",
   "execution_count": 3,
   "metadata": {},
   "outputs": [],
   "source": [
    "path2 = os.path.dirname(os.path.realpath(\"__file__\")) + '\\\\state-farm-distracted-driver-detection\\\\imgs\\\\train\\\\c0\\\\img_100026.jpg'\n",
    "path = os.path.dirname(os.path.realpath(\"__file__\")) + '\\\\state-farm-distracted-driver-detection\\\\imgs\\\\train\\\\'\n",
    "#cTotal = list()"
   ]
  },
  {
   "cell_type": "code",
   "execution_count": 4,
   "metadata": {},
   "outputs": [],
   "source": [
    "c0 = []\n",
    "c1 = []\n",
    "c2 = []\n",
    "c3 = []\n",
    "c4 = []\n",
    "c5 = []\n",
    "c6 = []\n",
    "c7 = []\n",
    "c8 = []\n",
    "c9 = []\n",
    "\n"
   ]
  },
  {
   "cell_type": "code",
   "execution_count": 5,
   "metadata": {},
   "outputs": [
    {
     "name": "stdout",
     "output_type": "stream",
     "text": [
      "c0\n",
      "c1\n",
      "c2\n",
      "c3\n",
      "c4\n",
      "c5\n",
      "c6\n",
      "c7\n",
      "c8\n",
      "c9\n"
     ]
    }
   ],
   "source": [
    "def processingImg(path):\n",
    "    listLabels = os.listdir(path)\n",
    "    #listImg = list()\n",
    "    #print(listLabels)\n",
    "    #counter = 0\n",
    "    # listLabels = listLabels[0]\n",
    "    for x in listLabels:\n",
    "        newPath = path + x + \"\\\\\"\n",
    "        imgLabel = os.listdir(newPath)\n",
    "        print(x)\n",
    "        for y in imgLabel:\n",
    "            grayPath = newPath + y\n",
    "            grayImg = cv2.imread(grayPath, 0).astype(\"float32\")\n",
    "            row, column = (60, 60)\n",
    "            #row, column = int(grayImg.shape[0]/4), int(grayImg.shape[1]/4)\n",
    "            grayImg = cv2.resize(grayImg, (column, row))\n",
    "            grayImg = grayImg.reshape(1,column*row)\n",
    "            \n",
    "            \n",
    "            #grayImg = normalizeImgV(grayImg)\n",
    "            #grayImg = grayImg.tolist()\n",
    "            grayImg = grayImg/255\n",
    "            #grayImg = (int(x[-1]), grayImg)\n",
    "            if x == \"c0\":\n",
    "                c0.append(grayImg)\n",
    "            elif x == \"c1\":\n",
    "                c1.append(grayImg)\n",
    "            elif x == \"c2\":\n",
    "                c2.append(grayImg)\n",
    "            elif x == \"c3\":\n",
    "                c3.append(grayImg)\n",
    "            elif x == \"c4\":\n",
    "                c4.append(grayImg)\n",
    "            elif x == \"c5\":\n",
    "                c5.append(grayImg)\n",
    "            elif x == \"c6\":\n",
    "                c6.append(grayImg)\n",
    "            elif x == \"c7\":\n",
    "                c7.append(grayImg)\n",
    "            elif x == \"c8\":\n",
    "                c8.append(grayImg)\n",
    "            elif x == \"c9\":\n",
    "                c9.append(grayImg)\n",
    "processingImg(path)"
   ]
  },
  {
   "cell_type": "code",
   "execution_count": null,
   "metadata": {},
   "outputs": [],
   "source": [
    "t = np.random.random_integers(0, 17000,4000)\n",
    "for x in t:\n",
    "    cTotal.pop(x)"
   ]
  },
  {
   "cell_type": "code",
   "execution_count": null,
   "metadata": {},
   "outputs": [],
   "source": [
    "np.average([[2,3,4], [8,6,1]], axis=0)"
   ]
  },
  {
   "cell_type": "code",
   "execution_count": null,
   "metadata": {},
   "outputs": [],
   "source": []
  },
  {
   "cell_type": "code",
   "execution_count": 8,
   "metadata": {},
   "outputs": [],
   "source": [
    "saveVariable(c0, \"QDAC0\")\n",
    "saveVariable(c1, \"QDAC1\")\n",
    "saveVariable(c2, \"QDAC2\")\n",
    "saveVariable(c3, \"QDAC3\")\n",
    "saveVariable(c4, \"QDAC4\")\n",
    "saveVariable(c5, \"QDAC5\")\n",
    "saveVariable(c6, \"QDAC6\")\n",
    "saveVariable(c7, \"QDAC7\")\n",
    "saveVariable(c8, \"QDAC8\")\n",
    "saveVariable(c9, \"QDAC9\")"
   ]
  },
  {
   "cell_type": "code",
   "execution_count": 6,
   "metadata": {},
   "outputs": [],
   "source": [
    "c0Avg = np.average(c0, axis=0)\n",
    "c1Avg = np.average(c1, axis=0)\n",
    "c2Avg = np.average(c2, axis=0)\n",
    "c3Avg = np.average(c3, axis=0)\n",
    "c4Avg = np.average(c4, axis=0)\n",
    "c5Avg = np.average(c5, axis=0)\n",
    "c6Avg = np.average(c6, axis=0)\n",
    "c7Avg = np.average(c7, axis=0)\n",
    "c8Avg = np.average(c8, axis=0)\n",
    "c9Avg = np.average(c9, axis=0)"
   ]
  },
  {
   "cell_type": "code",
   "execution_count": null,
   "metadata": {},
   "outputs": [],
   "source": []
  },
  {
   "cell_type": "code",
   "execution_count": 7,
   "metadata": {},
   "outputs": [
    {
     "data": {
      "text/plain": [
       "<matplotlib.image.AxesImage at 0x10e0ff58a20>"
      ]
     },
     "execution_count": 7,
     "metadata": {},
     "output_type": "execute_result"
    },
    {
     "data": {
      "image/png": "[encoded data removed]",
      "text/plain": [
       "<Figure size 432x288 with 1 Axes>"
      ]
     },
     "metadata": {
      "needs_background": "light"
     },
     "output_type": "display_data"
    }
   ],
   "source": [
    "plt.imshow(c4Avg.reshape(60,60).astype(\"float32\"), cmap=\"gray\")"
   ]
  },
  {
   "cell_type": "code",
   "execution_count": 17,
   "metadata": {},
   "outputs": [
    {
     "ename": "KeyboardInterrupt",
     "evalue": "",
     "output_type": "error",
     "traceback": [
      "\u001b[1;31m---------------------------------------------------------------------------\u001b[0m",
      "\u001b[1;31mKeyboardInterrupt\u001b[0m                         Traceback (most recent call last)",
      "\u001b[1;32m<ipython-input-17-6131274935a5>\u001b[0m in \u001b[0;36m<module>\u001b[1;34m\u001b[0m\n\u001b[0;32m      6\u001b[0m     \u001b[0msummation\u001b[0m \u001b[1;33m=\u001b[0m \u001b[0mtmp\u001b[0m\u001b[1;33m.\u001b[0m\u001b[0mdot\u001b[0m\u001b[1;33m(\u001b[0m\u001b[0mtmp\u001b[0m\u001b[1;33m.\u001b[0m\u001b[0mT\u001b[0m\u001b[1;33m)\u001b[0m\u001b[1;33m\u001b[0m\u001b[1;33m\u001b[0m\u001b[0m\n\u001b[0;32m      7\u001b[0m     \u001b[1;31m#print(tmp.reshape(4,1))\u001b[0m\u001b[1;33m\u001b[0m\u001b[1;33m\u001b[0m\u001b[1;33m\u001b[0m\u001b[0m\n\u001b[1;32m----> 8\u001b[1;33m     \u001b[0mtotalSummation\u001b[0m \u001b[1;33m=\u001b[0m \u001b[0mtotalSummation\u001b[0m \u001b[1;33m+\u001b[0m \u001b[0msummation\u001b[0m\u001b[1;33m\u001b[0m\u001b[1;33m\u001b[0m\u001b[0m\n\u001b[0m\u001b[0;32m      9\u001b[0m \u001b[0msigmaC0\u001b[0m \u001b[1;33m=\u001b[0m \u001b[0mtotalSummation\u001b[0m\u001b[1;33m/\u001b[0m\u001b[1;36m19200\u001b[0m\u001b[1;33m\u001b[0m\u001b[1;33m\u001b[0m\u001b[0m\n",
      "\u001b[1;31mKeyboardInterrupt\u001b[0m: "
     ]
    }
   ],
   "source": [
    "totalSummation = np.zeros([60*60,1])\n",
    "for x in c0:\n",
    "    tmp = x  - c0Avg\n",
    "    tmp = tmp.reshape(60*60,1)\n",
    "    #print(tmp)\n",
    "    summation = tmp.dot(tmp.T)\n",
    "    #print(tmp.reshape(4,1))\n",
    "    totalSummation = totalSummation + summation\n",
    "sigmaC0 = totalSummation/3600"
   ]
  },
  {
   "cell_type": "code",
   "execution_count": null,
   "metadata": {},
   "outputs": [],
   "source": [
    "sigmaC0.shape"
   ]
  },
  {
   "cell_type": "code",
   "execution_count": null,
   "metadata": {},
   "outputs": [],
   "source": [
    "def randomizeData(cTotal):\n",
    "    random.shuffle(cTotal)\n",
    "    return cTotal\n",
    "\n",
    "def parsingData(cTotal):\n",
    "    yTrain = [x for x, y in cTotal]\n",
    "    xTrain = [y for x, y in cTotal]\n",
    "    #xTrain = np.array(xTrain, dtype=\"uint8\")\n",
    "    #yTrain = np.array(yTrain, dtype=\"uint8\")\n",
    "    #print(len(xTrain[0]))\n",
    "    #xTrain = np.array(xTrain, dtype=\"float32\")\n",
    "    xTrain = np.array(xTrain, dtype=\"float16\")\n",
    "    yTrain = np.array(yTrain, dtype=\"uint8\")\n",
    "    return xTrain, yTrain"
   ]
  },
  {
   "cell_type": "code",
   "execution_count": null,
   "metadata": {},
   "outputs": [],
   "source": [
    "#randomizeData(cTotal)\n",
    "xTrain, yTrain = parsingData(cTotal)"
   ]
  },
  {
   "cell_type": "code",
   "execution_count": null,
   "metadata": {},
   "outputs": [],
   "source": [
    "for z in yTrain:\n",
    "    if z == "
   ]
  },
  {
   "cell_type": "code",
   "execution_count": null,
   "metadata": {},
   "outputs": [],
   "source": []
  },
  {
   "cell_type": "code",
   "execution_count": null,
   "metadata": {},
   "outputs": [],
   "source": [
    "xTest = xTrain[int(len(xTrain)*0.9):]\n",
    "yTest = yTrain[int(len(xTrain)*0.9):]\n",
    "xTrain = xTrain[:int(len(xTrain)*0.9)]\n",
    "yTrain = yTrain[:int(len(yTrain)*0.9)]"
   ]
  },
  {
   "cell_type": "code",
   "execution_count": null,
   "metadata": {},
   "outputs": [],
   "source": [
    "len(xTrain)"
   ]
  },
  {
   "cell_type": "code",
   "execution_count": null,
   "metadata": {},
   "outputs": [],
   "source": [
    "len(xTest)"
   ]
  },
  {
   "cell_type": "code",
   "execution_count": null,
   "metadata": {},
   "outputs": [],
   "source": [
    "xTrain = xTrain.reshape( len(xTrain), 120*160, 1)\n",
    "xTest = xTest.reshape(len(xTest), 120*160, 1)"
   ]
  },
  {
   "cell_type": "code",
   "execution_count": null,
   "metadata": {},
   "outputs": [],
   "source": []
  },
  {
   "cell_type": "code",
   "execution_count": null,
   "metadata": {},
   "outputs": [],
   "source": []
  },
  {
   "cell_type": "code",
   "execution_count": null,
   "metadata": {},
   "outputs": [],
   "source": []
  }
 ],
 "metadata": {
  "kernelspec": {
   "display_name": "Python 3",
   "language": "python",
   "name": "python3"
  },
  "language_info": {
   "codemirror_mode": {
    "name": "ipython",
    "version": 3
   },
   "file_extension": ".py",
   "mimetype": "text/x-python",
   "name": "python",
   "nbconvert_exporter": "python",
   "pygments_lexer": "ipython3",
   "version": "3.6.9"
  }
 },
 "nbformat": 4,
 "nbformat_minor": 2
}
