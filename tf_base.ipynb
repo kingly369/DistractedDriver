{
 "cells": [
  {
   "cell_type": "code",
   "execution_count": 4,
   "metadata": {
    "colab": {},
    "colab_type": "code",
    "id": "aI_HNC44m9it"
   },
   "outputs": [
    {
     "name": "stderr",
     "output_type": "stream",
     "text": [
      "UsageError: Line magic function `%tensorflow_version` not found.\n"
     ]
    }
   ],
   "source": [
    "%tensorflow_version 1.x\n",
    "import tensorflow as tf"
   ]
  },
  {
   "cell_type": "code",
   "execution_count": 13,
   "metadata": {},
   "outputs": [],
   "source": [
    "from tensorflow.keras.datasets impor"
   ]
  },
  {
   "cell_type": "code",
   "execution_count": 11,
   "metadata": {},
   "outputs": [
    {
     "ename": "ModuleNotFoundError",
     "evalue": "No module named 'tensorflow_datasets'",
     "output_type": "error",
     "traceback": [
      "\u001b[1;31m---------------------------------------------------------------------------\u001b[0m",
      "\u001b[1;31mModuleNotFoundError\u001b[0m                       Traceback (most recent call last)",
      "\u001b[1;32m<ipython-input-11-46a8a2031c9c>\u001b[0m in \u001b[0;36m<module>\u001b[1;34m\u001b[0m\n\u001b[1;32m----> 1\u001b[1;33m \u001b[1;32mimport\u001b[0m \u001b[0mtensorflow_datasets\u001b[0m \u001b[1;32mas\u001b[0m \u001b[0mtfds\u001b[0m\u001b[1;33m\u001b[0m\u001b[1;33m\u001b[0m\u001b[0m\n\u001b[0m",
      "\u001b[1;31mModuleNotFoundError\u001b[0m: No module named 'tensorflow_datasets'"
     ]
    }
   ],
   "source": [
    "import tensorflow_datasets as tfds"
   ]
  },
  {
   "cell_type": "code",
   "execution_count": 19,
   "metadata": {
    "colab": {},
    "colab_type": "code",
    "id": "LJkMY_5Um-7C"
   },
   "outputs": [
    {
     "ename": "ModuleNotFoundError",
     "evalue": "No module named 'tensorflow.examples.tutorials'",
     "output_type": "error",
     "traceback": [
      "\u001b[1;31m---------------------------------------------------------------------------\u001b[0m",
      "\u001b[1;31mModuleNotFoundError\u001b[0m                       Traceback (most recent call last)",
      "\u001b[1;32m<ipython-input-19-a31311397b82>\u001b[0m in \u001b[0;36m<module>\u001b[1;34m\u001b[0m\n\u001b[1;32m----> 1\u001b[1;33m \u001b[1;32mfrom\u001b[0m \u001b[0mtensorflow\u001b[0m\u001b[1;33m.\u001b[0m\u001b[0mexamples\u001b[0m\u001b[1;33m.\u001b[0m\u001b[0mtutorials\u001b[0m\u001b[1;33m.\u001b[0m\u001b[0mmnist\u001b[0m \u001b[1;32mimport\u001b[0m \u001b[0minput_data\u001b[0m\u001b[1;33m\u001b[0m\u001b[1;33m\u001b[0m\u001b[0m\n\u001b[0m",
      "\u001b[1;31mModuleNotFoundError\u001b[0m: No module named 'tensorflow.examples.tutorials'"
     ]
    }
   ],
   "source": [
    "from tensorflow.examples.tutorials.mnist import input_data"
   ]
  },
  {
   "cell_type": "code",
   "execution_count": 18,
   "metadata": {},
   "outputs": [],
   "source": [
    "mnist = tensorflow.keras.datasets.mnist.load_data()"
   ]
  },
  {
   "cell_type": "code",
   "execution_count": null,
   "metadata": {},
   "outputs": [],
   "source": []
  },
  {
   "cell_type": "code",
   "execution_count": null,
   "metadata": {
    "colab": {
     "base_uri": "https://localhost:8080/",
     "height": 85
    },
    "colab_type": "code",
    "executionInfo": {
     "elapsed": 1518,
     "status": "ok",
     "timestamp": 1575409286586,
     "user": {
      "displayName": "Pedro Sanchez",
      "photoUrl": "https://lh3.googleusercontent.com/a-/AAuE7mCMr-sLtkn_DuimBhE5T8I0exHI_vS8yvOPBKarPLTIyG5Ayww_Bzke1jSuk0ZIEQPLmC8WsyKB7VwN-xI7JtH6dPRpyN1qiTiAaYUU3vZtSOqA6e71dHykZ07lBE6mGBM4JHUPNedTuW2542JbA5T4uTdEk7Ft1qgtEXD7K3GUCuQYlSpuRgpJm-6wudHZ_vAZjL1s2lZVJ4Mei58F2OmJG1nBjmGCfFzXqwzqYzk0IP-ZeUWRuIMbWZH-xlQ3z7P8aBCidwkodGv24Q2G6y7Kruxp551-ydsvL3zeFJWs3PB9wbEKGPUyCIknDAslzWRow8oCU1k-OhIs8Mn_EfJMizQbizr6IlfjtrQhrHaZVihxJLnqcnOHIaU9tgkmkdZWjkkeRA4xDOYMoWUGtS61hugCVDhsQHDPpn4yhiISmrS4j9XKQ4SF-tZKcJ9vHiBJ2imO7r6cvbDiAyguaDQDtf3S5n-_BfKuQWYSCIbJUoyXjS6cLUV3j9nwou_q7G5jw2uRv0YjSlY4iRaiT6F1Hd_wzIWkkpmtVipbDTIVES6O0JFxGgU1BAHmw1GSXpK4X75hHEXUUPheaQ12KNhs8OF5D7f9MN-s7AKTU6jhC58OvLWMk6xGp7MafxqVnsOAlrFy8BqVN3CXP7FIL842H7yj8kN-vWviGFaC_iZ_AlmEmXurZ6YHU6XPmfApOsibaBsW81aJ7lelLFcAzNJPB9JnbjkyLmQ13NOyMkctJHzt8N9P83GXxiPtP7k=s64",
      "userId": "12425416569280044021"
     },
     "user_tz": 480
    },
    "id": "Lz59ytCFnaNo",
    "outputId": "7e7d2b48-709e-40c1-ece8-22bdaff362d0"
   },
   "outputs": [],
   "source": [
    "mnist = input_data.read_data_sets(\"MNIST_data/\", one_hot=True)"
   ]
  },
  {
   "cell_type": "code",
   "execution_count": 2,
   "metadata": {
    "colab": {},
    "colab_type": "code",
    "id": "W7p_gVRxncTk"
   },
   "outputs": [
    {
     "ename": "NameError",
     "evalue": "name 'mnist' is not defined",
     "output_type": "error",
     "traceback": [
      "\u001b[1;31m---------------------------------------------------------------------------\u001b[0m",
      "\u001b[1;31mNameError\u001b[0m                                 Traceback (most recent call last)",
      "\u001b[1;32m<ipython-input-2-3b9d89578026>\u001b[0m in \u001b[0;36m<module>\u001b[1;34m\u001b[0m\n\u001b[1;32m----> 1\u001b[1;33m \u001b[0mn_train\u001b[0m \u001b[1;33m=\u001b[0m \u001b[0mmnist\u001b[0m\u001b[1;33m.\u001b[0m\u001b[0mtrain\u001b[0m\u001b[1;33m.\u001b[0m\u001b[0mnum_examples\u001b[0m  \u001b[1;31m# 55,000\u001b[0m\u001b[1;33m\u001b[0m\u001b[1;33m\u001b[0m\u001b[0m\n\u001b[0m\u001b[0;32m      2\u001b[0m \u001b[0mn_validation\u001b[0m \u001b[1;33m=\u001b[0m \u001b[0mmnist\u001b[0m\u001b[1;33m.\u001b[0m\u001b[0mvalidation\u001b[0m\u001b[1;33m.\u001b[0m\u001b[0mnum_examples\u001b[0m  \u001b[1;31m# 5000\u001b[0m\u001b[1;33m\u001b[0m\u001b[1;33m\u001b[0m\u001b[0m\n\u001b[0;32m      3\u001b[0m \u001b[0mn_test\u001b[0m \u001b[1;33m=\u001b[0m \u001b[0mmnist\u001b[0m\u001b[1;33m.\u001b[0m\u001b[0mtest\u001b[0m\u001b[1;33m.\u001b[0m\u001b[0mnum_examples\u001b[0m  \u001b[1;31m# 10,000\u001b[0m\u001b[1;33m\u001b[0m\u001b[1;33m\u001b[0m\u001b[0m\n",
      "\u001b[1;31mNameError\u001b[0m: name 'mnist' is not defined"
     ]
    }
   ],
   "source": [
    "n_train = mnist.train.num_examples  # 55,000\n",
    "n_validation = mnist.validation.num_examples  # 5000\n",
    "n_test = mnist.test.num_examples  # 10,000"
   ]
  },
  {
   "cell_type": "code",
   "execution_count": 0,
   "metadata": {
    "colab": {},
    "colab_type": "code",
    "id": "mZr_3qpNnwT6"
   },
   "outputs": [],
   "source": [
    "n_input = 784  # input layer (28x28 pixels)\n",
    "n_hidden1 = 512  # 1st hidden layer\n",
    "n_output = 10  # output layer (0-9 digits)"
   ]
  },
  {
   "cell_type": "code",
   "execution_count": 0,
   "metadata": {
    "colab": {},
    "colab_type": "code",
    "id": "XRtjMUqBn828"
   },
   "outputs": [],
   "source": [
    "learning_rate = 1e-4\n",
    "n_iterations = 1000\n",
    "batch_size = 128\n",
    "dropout = 0.5"
   ]
  },
  {
   "cell_type": "code",
   "execution_count": 0,
   "metadata": {
    "colab": {},
    "colab_type": "code",
    "id": "1hK3jO7yoK73"
   },
   "outputs": [],
   "source": [
    "X = tf.placeholder(\"float\", [None, n_input]) # tf.compat.v1.placeholder(dtype, shape=None, name=None)\n",
    "Y = tf.placeholder(\"float\", [None, n_output])\n",
    "keep_prob = tf.placeholder(tf.float32)"
   ]
  },
  {
   "cell_type": "code",
   "execution_count": 0,
   "metadata": {
    "colab": {},
    "colab_type": "code",
    "id": "tut8TVp4oWhL"
   },
   "outputs": [],
   "source": [
    "weights = {\n",
    "    'w1': tf.Variable(tf.truncated_normal([n_input, n_hidden1], stddev=0.1)),\n",
    "    'out': tf.Variable(tf.truncated_normal([n_hidden1, n_output], stddev=0.1)),\n",
    "}"
   ]
  },
  {
   "cell_type": "code",
   "execution_count": 0,
   "metadata": {
    "colab": {},
    "colab_type": "code",
    "id": "wlc8xJBco0A4"
   },
   "outputs": [],
   "source": [
    "biases = {\n",
    "    'b1': tf.Variable(tf.constant(0.1, shape=[n_hidden1])),\n",
    "    'out': tf.Variable(tf.constant(0.1, shape=[n_output]))\n",
    "}"
   ]
  },
  {
   "cell_type": "code",
   "execution_count": 0,
   "metadata": {
    "colab": {},
    "colab_type": "code",
    "id": "ySV62pA4o0Um"
   },
   "outputs": [],
   "source": [
    "layer_1 = tf.add(tf.matmul(X, weights['w1']), biases['b1'])\n",
    "layer_drop = tf.nn.dropout(layer_1, keep_prob)\n",
    "output_layer = tf.matmul(layer_1, weights['out']) + biases['out']"
   ]
  },
  {
   "cell_type": "code",
   "execution_count": 0,
   "metadata": {
    "colab": {},
    "colab_type": "code",
    "id": "LpBcLj1Lo7pP"
   },
   "outputs": [],
   "source": [
    "cross_entropy = tf.reduce_mean(\n",
    "    tf.nn.softmax_cross_entropy_with_logits(\n",
    "        labels=Y, logits=output_layer\n",
    "        ))\n",
    "train_step = tf.train.AdamOptimizer(1e-4).minimize(cross_entropy)"
   ]
  },
  {
   "cell_type": "code",
   "execution_count": 0,
   "metadata": {
    "colab": {},
    "colab_type": "code",
    "id": "-McOy2sLpM59"
   },
   "outputs": [],
   "source": [
    "correct_pred = tf.equal(tf.argmax(output_layer, 1), tf.argmax(Y, 1))\n",
    "accuracy = tf.reduce_mean(tf.cast(correct_pred, tf.float32))"
   ]
  },
  {
   "cell_type": "code",
   "execution_count": 0,
   "metadata": {
    "colab": {},
    "colab_type": "code",
    "id": "wYgglU_ypwxo"
   },
   "outputs": [],
   "source": [
    "init = tf.global_variables_initializer()\n",
    "sess = tf.Session()\n",
    "sess.run(init)"
   ]
  },
  {
   "cell_type": "code",
   "execution_count": 76,
   "metadata": {
    "colab": {
     "base_uri": "https://localhost:8080/",
     "height": 187
    },
    "colab_type": "code",
    "executionInfo": {
     "elapsed": 8099,
     "status": "ok",
     "timestamp": 1575409293486,
     "user": {
      "displayName": "Pedro Sanchez",
      "photoUrl": "https://lh3.googleusercontent.com/a-/AAuE7mCMr-sLtkn_DuimBhE5T8I0exHI_vS8yvOPBKarPLTIyG5Ayww_Bzke1jSuk0ZIEQPLmC8WsyKB7VwN-xI7JtH6dPRpyN1qiTiAaYUU3vZtSOqA6e71dHykZ07lBE6mGBM4JHUPNedTuW2542JbA5T4uTdEk7Ft1qgtEXD7K3GUCuQYlSpuRgpJm-6wudHZ_vAZjL1s2lZVJ4Mei58F2OmJG1nBjmGCfFzXqwzqYzk0IP-ZeUWRuIMbWZH-xlQ3z7P8aBCidwkodGv24Q2G6y7Kruxp551-ydsvL3zeFJWs3PB9wbEKGPUyCIknDAslzWRow8oCU1k-OhIs8Mn_EfJMizQbizr6IlfjtrQhrHaZVihxJLnqcnOHIaU9tgkmkdZWjkkeRA4xDOYMoWUGtS61hugCVDhsQHDPpn4yhiISmrS4j9XKQ4SF-tZKcJ9vHiBJ2imO7r6cvbDiAyguaDQDtf3S5n-_BfKuQWYSCIbJUoyXjS6cLUV3j9nwou_q7G5jw2uRv0YjSlY4iRaiT6F1Hd_wzIWkkpmtVipbDTIVES6O0JFxGgU1BAHmw1GSXpK4X75hHEXUUPheaQ12KNhs8OF5D7f9MN-s7AKTU6jhC58OvLWMk6xGp7MafxqVnsOAlrFy8BqVN3CXP7FIL842H7yj8kN-vWviGFaC_iZ_AlmEmXurZ6YHU6XPmfApOsibaBsW81aJ7lelLFcAzNJPB9JnbjkyLmQ13NOyMkctJHzt8N9P83GXxiPtP7k=s64",
      "userId": "12425416569280044021"
     },
     "user_tz": 480
    },
    "id": "OnkdmZErpzMq",
    "outputId": "6533ae2b-a9cc-4ba4-9651-ab497411717a"
   },
   "outputs": [
    {
     "name": "stdout",
     "output_type": "stream",
     "text": [
      "Iteration 0 \t| Loss = 3.832478 \t| Accuracy = 0.078125\n",
      "Iteration 100 \t| Loss = 0.8393594 \t| Accuracy = 0.703125\n",
      "Iteration 200 \t| Loss = 0.51707965 \t| Accuracy = 0.8671875\n",
      "Iteration 300 \t| Loss = 0.4472155 \t| Accuracy = 0.8828125\n",
      "Iteration 400 \t| Loss = 0.30911258 \t| Accuracy = 0.9140625\n",
      "Iteration 500 \t| Loss = 0.37392586 \t| Accuracy = 0.8828125\n",
      "Iteration 600 \t| Loss = 0.35484618 \t| Accuracy = 0.8828125\n",
      "Iteration 700 \t| Loss = 0.33486706 \t| Accuracy = 0.8984375\n",
      "Iteration 800 \t| Loss = 0.35903156 \t| Accuracy = 0.8984375\n",
      "Iteration 900 \t| Loss = 0.25123882 \t| Accuracy = 0.9453125\n"
     ]
    }
   ],
   "source": [
    "# train on mini batches\n",
    "for i in range(n_iterations):\n",
    "    batch_x, batch_y = mnist.train.next_batch(batch_size)\n",
    "    sess.run(train_step, feed_dict={\n",
    "        X: batch_x, Y: batch_y, keep_prob: dropout\n",
    "        })\n",
    "\n",
    "    # print loss and accuracy (per minibatch)\n",
    "    if i % 100 == 0:\n",
    "        minibatch_loss, minibatch_accuracy = sess.run(\n",
    "            [cross_entropy, accuracy],\n",
    "            feed_dict={X: batch_x, Y: batch_y, keep_prob: 1.0}\n",
    "            )\n",
    "        print(\n",
    "            \"Iteration\",\n",
    "            str(i),\n",
    "            \"\\t| Loss =\",\n",
    "            str(minibatch_loss),\n",
    "            \"\\t| Accuracy =\",\n",
    "            str(minibatch_accuracy)\n",
    "            )"
   ]
  },
  {
   "cell_type": "code",
   "execution_count": 77,
   "metadata": {
    "colab": {
     "base_uri": "https://localhost:8080/",
     "height": 51
    },
    "colab_type": "code",
    "executionInfo": {
     "elapsed": 8228,
     "status": "ok",
     "timestamp": 1575409293630,
     "user": {
      "displayName": "Pedro Sanchez",
      "photoUrl": "https://lh3.googleusercontent.com/a-/AAuE7mCMr-sLtkn_DuimBhE5T8I0exHI_vS8yvOPBKarPLTIyG5Ayww_Bzke1jSuk0ZIEQPLmC8WsyKB7VwN-xI7JtH6dPRpyN1qiTiAaYUU3vZtSOqA6e71dHykZ07lBE6mGBM4JHUPNedTuW2542JbA5T4uTdEk7Ft1qgtEXD7K3GUCuQYlSpuRgpJm-6wudHZ_vAZjL1s2lZVJ4Mei58F2OmJG1nBjmGCfFzXqwzqYzk0IP-ZeUWRuIMbWZH-xlQ3z7P8aBCidwkodGv24Q2G6y7Kruxp551-ydsvL3zeFJWs3PB9wbEKGPUyCIknDAslzWRow8oCU1k-OhIs8Mn_EfJMizQbizr6IlfjtrQhrHaZVihxJLnqcnOHIaU9tgkmkdZWjkkeRA4xDOYMoWUGtS61hugCVDhsQHDPpn4yhiISmrS4j9XKQ4SF-tZKcJ9vHiBJ2imO7r6cvbDiAyguaDQDtf3S5n-_BfKuQWYSCIbJUoyXjS6cLUV3j9nwou_q7G5jw2uRv0YjSlY4iRaiT6F1Hd_wzIWkkpmtVipbDTIVES6O0JFxGgU1BAHmw1GSXpK4X75hHEXUUPheaQ12KNhs8OF5D7f9MN-s7AKTU6jhC58OvLWMk6xGp7MafxqVnsOAlrFy8BqVN3CXP7FIL842H7yj8kN-vWviGFaC_iZ_AlmEmXurZ6YHU6XPmfApOsibaBsW81aJ7lelLFcAzNJPB9JnbjkyLmQ13NOyMkctJHzt8N9P83GXxiPtP7k=s64",
      "userId": "12425416569280044021"
     },
     "user_tz": 480
    },
    "id": "7j2XGrMwp5Wi",
    "outputId": "7b5cbb6e-c240-4a21-a0e7-9e778a1a1da5"
   },
   "outputs": [
    {
     "name": "stdout",
     "output_type": "stream",
     "text": [
      "\n",
      "Accuracy on test set: 0.9119\n"
     ]
    }
   ],
   "source": [
    "test_accuracy = sess.run(accuracy, feed_dict={X: mnist.test.images, Y: mnist.test.labels, keep_prob: 1.0})\n",
    "print(\"\\nAccuracy on test set:\", test_accuracy)"
   ]
  },
  {
   "cell_type": "code",
   "execution_count": 0,
   "metadata": {
    "colab": {},
    "colab_type": "code",
    "id": "yg2qobhaqEyU"
   },
   "outputs": [],
   "source": []
  }
 ],
 "metadata": {
  "colab": {
   "name": "tf_base.ipynb",
   "provenance": []
  },
  "kernelspec": {
   "display_name": "Python 3",
   "language": "python",
   "name": "python3"
  },
  "language_info": {
   "codemirror_mode": {
    "name": "ipython",
    "version": 3
   },
   "file_extension": ".py",
   "mimetype": "text/x-python",
   "name": "python",
   "nbconvert_exporter": "python",
   "pygments_lexer": "ipython3",
   "version": "3.6.9"
  }
 },
 "nbformat": 4,
 "nbformat_minor": 1
}
